{
 "cells": [
  {
   "cell_type": "code",
   "execution_count": 2,
   "metadata": {
    "executionInfo": {
     "elapsed": 2816,
     "status": "ok",
     "timestamp": 1620328781417,
     "user": {
      "displayName": "Yana Palyvoda",
      "photoUrl": "",
      "userId": "04152548768400554625"
     },
     "user_tz": -120
    },
    "id": "Y3qYhqQhB-CQ"
   },
   "outputs": [],
   "source": [
    "import pandas as pd\n",
    "import numpy as np\n",
    "import tensorflow as tf\n",
    "import glob\n",
    "import os\n",
    "from pathlib import Path\n",
    "import shutil"
   ]
  },
  {
   "cell_type": "markdown",
   "metadata": {
    "tags": []
   },
   "source": [
    "## Notebook 1 - Préparation des données"
   ]
  },
  {
   "cell_type": "markdown",
   "metadata": {},
   "source": [
    "Les répertoires initials  gtFine et leftImg8bit doivent etre placés dans le répertoire « images »\n",
    "Ce script crée la structure /train(/val/test)/images(/masks) dans le répertoire data (image et label ont le même nom).\n"
   ]
  },
  {
   "cell_type": "code",
   "execution_count": 31,
   "metadata": {
    "executionInfo": {
     "elapsed": 468,
     "status": "ok",
     "timestamp": 1620329102306,
     "user": {
      "displayName": "Yana Palyvoda",
      "photoUrl": "",
      "userId": "04152548768400554625"
     },
     "user_tz": -120
    },
    "id": "A90UIYf_JVlr"
   },
   "outputs": [],
   "source": [
    "IMAGES_DIR= \"images/\" \n",
    "DATA_DIR = \"data/\" \n",
    "IMAGE_DIR_CONTINUE = \"leftImg8bit\"\n",
    "MASK_DIR_CONTINUE = \"gtFine/\""
   ]
  },
  {
   "cell_type": "code",
   "execution_count": 32,
   "metadata": {
    "executionInfo": {
     "elapsed": 1649,
     "status": "ok",
     "timestamp": 1620329107644,
     "user": {
      "displayName": "Yana Palyvoda",
      "photoUrl": "",
      "userId": "04152548768400554625"
     },
     "user_tz": -120
    },
    "id": "mkLHO4eng5lX"
   },
   "outputs": [],
   "source": [
    "def files_copy(in_path, out_path,type_data):\n",
    "    # move and rename the origine files\n",
    "    in_data = in_path + '/'+type_data+'/'\n",
    "    out_dir = 'images'\n",
    "    files_list = []\n",
    "    non_labels = True\n",
    "    if in_path.find('gtFine')>0:\n",
    "        non_labels = False\n",
    "        out_dir = 'masks'\n",
    "    out_data = out_path+type_data+'/'+out_dir\n",
    "    dirs = os.listdir(in_data )\n",
    "    for dir in dirs:\n",
    "        files =[]\n",
    "        if dir.startswith(\".\"):\n",
    "            continue\n",
    "        else:\n",
    "            if non_labels :\n",
    "              #files = [fl for fl in os.listdir(in_data + dir)]\n",
    "              for fl in os.listdir(in_data + dir):\n",
    "                new_name = fl.replace('_leftImg8bit','')\n",
    "                files.append(new_name)\n",
    "                #print(in_data + dir +'/'+ fl, out_data +'/'+ new_name)\n",
    "                filePath_image = shutil.move(in_data + dir +'/'+fl, out_data +'/'+ new_name)\n",
    "                #filePath_image = shutil.copy(in_data + dir +'/'+fl, out_data +'/'+ new_name)\n",
    "            else:\n",
    "              #files = [fl.replace('_gtFine_color','') for fl in os.listdir(in_data+dir) if fl.endswith('_color.png')]\n",
    "                for fl in os.listdir(in_data+dir):\n",
    "                     if fl.endswith('_color.png'):\n",
    "                        new_name = fl.replace('_gtFine_color','')\n",
    "                        files.append(new_name)\n",
    "                        #print(in_data + dir +fl, out_data +'/'+new_name)\n",
    "                        filePath_image = shutil.move(in_data + dir +'/'+fl, out_data +'/'+new_name)\n",
    "                        #filePath_image = shutil.copy(in_data + dir +'/'+fl, out_data +'/'+new_name)\n",
    "            files_list+=files\n",
    "    return(files_list)\n"
   ]
  },
  {
   "cell_type": "code",
   "execution_count": 33,
   "metadata": {
    "executionInfo": {
     "elapsed": 501,
     "status": "ok",
     "timestamp": 1620329115021,
     "user": {
      "displayName": "Yana Palyvoda",
      "photoUrl": "",
      "userId": "04152548768400554625"
     },
     "user_tz": -120
    },
    "id": "bajEpWNNX5-C"
   },
   "outputs": [],
   "source": [
    "images_path = IMAGES_DIR+IMAGE_DIR_CONTINUE\n",
    "masks_path = IMAGES_DIR+MASK_DIR_CONTINUE "
   ]
  },
  {
   "cell_type": "code",
   "execution_count": 34,
   "metadata": {
    "colab": {
     "base_uri": "https://localhost:8080/"
    },
    "executionInfo": {
     "elapsed": 29305,
     "status": "ok",
     "timestamp": 1620148575862,
     "user": {
      "displayName": "Yana Palyvoda",
      "photoUrl": "",
      "userId": "04152548768400554625"
     },
     "user_tz": -120
    },
    "id": "WtB3X3n5i9sN",
    "outputId": "c4ce8373-8801-4e1e-aacb-72d939225503"
   },
   "outputs": [
    {
     "name": "stdout",
     "output_type": "stream",
     "text": [
      "2975 2975\n"
     ]
    }
   ],
   "source": [
    "#train images\n",
    "images_train_files = files_copy(images_path, DATA_DIR,'train')\n",
    "#train masks \n",
    "masks_train_files = files_copy(masks_path, DATA_DIR,'train')\n",
    "print(len(images_train_files),len(masks_train_files))\n",
    "assert len(images_train_files) == len(masks_train_files), \"No of Train images and label mismatch\"\n"
   ]
  },
  {
   "cell_type": "code",
   "execution_count": 35,
   "metadata": {
    "colab": {
     "base_uri": "https://localhost:8080/"
    },
    "executionInfo": {
     "elapsed": 6129,
     "status": "ok",
     "timestamp": 1620149685413,
     "user": {
      "displayName": "Yana Palyvoda",
      "photoUrl": "",
      "userId": "04152548768400554625"
     },
     "user_tz": -120
    },
    "id": "FXebHsCmvr1i",
    "outputId": "fe83e0cd-1860-43c1-fb29-e20c84ac7ccf"
   },
   "outputs": [
    {
     "name": "stdout",
     "output_type": "stream",
     "text": [
      "500 500\n"
     ]
    }
   ],
   "source": [
    "#val images\n",
    "images_val_files = files_copy(images_path, DATA_DIR,'val')\n",
    "#val masks \n",
    "masks_val_files = files_copy(masks_path, DATA_DIR,'val')\n",
    "print(len(images_val_files),len(masks_val_files))\n",
    "assert len(images_val_files) == len(masks_val_files), \"No of Valid images and label mismatch\""
   ]
  },
  {
   "cell_type": "code",
   "execution_count": 36,
   "metadata": {
    "colab": {
     "base_uri": "https://localhost:8080/"
    },
    "executionInfo": {
     "elapsed": 20162,
     "status": "ok",
     "timestamp": 1620329280607,
     "user": {
      "displayName": "Yana Palyvoda",
      "photoUrl": "",
      "userId": "04152548768400554625"
     },
     "user_tz": -120
    },
    "id": "yqYEYLuWwSLt",
    "outputId": "b285e7ca-0d3b-441a-a6b8-372f15607363"
   },
   "outputs": [
    {
     "name": "stdout",
     "output_type": "stream",
     "text": [
      "1525 1525\n"
     ]
    }
   ],
   "source": [
    "#test images\n",
    "images_test_files = files_copy(images_path, DATA_DIR,'test')\n",
    "#val masks \n",
    "masks_test_files = files_copy(masks_path, DATA_DIR,'test')\n",
    "print(len(images_test_files),len(masks_test_files))\n",
    "assert len(images_test_files) == len(masks_test_files), \"No of Test images and label mismatch\""
   ]
  }
 ],
 "metadata": {
  "colab": {
   "authorship_tag": "ABX9TyM0UV/NE4QELU0tESOX6f4X",
   "collapsed_sections": [],
   "name": "P8_preparation_data.ipynb",
   "provenance": []
  },
  "kernelspec": {
   "display_name": "Python 3",
   "language": "python",
   "name": "python3"
  },
  "language_info": {
   "codemirror_mode": {
    "name": "ipython",
    "version": 3
   },
   "file_extension": ".py",
   "mimetype": "text/x-python",
   "name": "python",
   "nbconvert_exporter": "python",
   "pygments_lexer": "ipython3",
   "version": "3.7.10"
  }
 },
 "nbformat": 4,
 "nbformat_minor": 4
}
